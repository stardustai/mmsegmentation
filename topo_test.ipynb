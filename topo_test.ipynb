{
 "metadata": {
  "language_info": {
   "codemirror_mode": {
    "name": "ipython",
    "version": 3
   },
   "file_extension": ".py",
   "mimetype": "text/x-python",
   "name": "python",
   "nbconvert_exporter": "python",
   "pygments_lexer": "ipython3",
   "version": "3.8.8-final"
  },
  "orig_nbformat": 2,
  "kernelspec": {
   "name": "python3",
   "display_name": "Python 3.8.8 64-bit",
   "metadata": {
    "interpreter": {
     "hash": "1ee38ef4a5a9feb55287fd749643f13d043cb0a7addaab2a9c224cbe137c0062"
    }
   }
  }
 },
 "nbformat": 4,
 "nbformat_minor": 2,
 "cells": [
  {
   "cell_type": "code",
   "execution_count": 9,
   "metadata": {},
   "outputs": [
    {
     "output_type": "execute_result",
     "data": {
      "text/plain": [
       "<shapely.geometry.polygon.Polygon at 0x113e5c8b0>"
      ],
      "image/svg+xml": "<svg xmlns=\"http://www.w3.org/2000/svg\" xmlns:xlink=\"http://www.w3.org/1999/xlink\" width=\"100.0\" height=\"100.0\" viewBox=\"28.90093389661636 -12.160001698450722 11.854719799667649 11.64906539473471\" preserveAspectRatio=\"xMinYMin meet\"><g transform=\"matrix(1,0,0,-1,0,-12.670938002166736)\"><path fill-rule=\"evenodd\" fill=\"#66cc99\" stroke=\"#555555\" stroke-width=\"0.23709439599335297\" opacity=\"0.6\" d=\"M 33.90371119710453,-0.9500000000000001 L 34.07261999999997,-1.0598199999999451 L 37.69868999999994,-3.0969899999999484 L 37.7669,-3.6771200000000004 L 39.20222,-4.67677 L 38.74053999999995,-5.9089499999999475 L 38.79977000000008,-6.475660000000005 L 39.44,-6.839999999999861 L 39.47000000000014,-7.099999999999966 L 39.19468999999998,-7.703899999999976 L 39.25203000000005,-8.00780999999995 L 39.18652000000009,-8.48550999999992 L 39.53574000000009,-9.112369999999885 L 39.94960000000003,-10.098400000000026 L 40.316586229110854,-10.317097752817492 L 40.31659000000002,-10.317099999999868 L 39.52099999999996,-10.89688000000001 L 38.42755659358775,-11.285202325081656 L 37.827639999999974,-11.26878999999991 L 37.471289999999954,-11.568759999999997 L 36.775150994622805,-11.594537448780805 L 36.51408165868426,-11.720938002166735 L 35.31239790216904,-11.439146416879147 L 34.55998904799935,-11.520020033415925 L 34.27999999999997,-10.160000000000025 L 33.940837724096525,-9.693673841980285 L 33.73972000000009,-9.417149999999992 L 32.75937544122132,-9.23059905358906 L 32.19186486179194,-8.930358981973257 L 31.556348097466497,-8.762048841998642 L 31.15775133695005,-8.594578747317366 L 30.740009731422095,-8.34000593035372 L 30.74001549655179,-8.340007419470915 L 30.199996779101696,-7.079980970898163 L 29.620032179490014,-6.520015150583426 L 29.419992710088167,-5.939998874539434 L 29.519986606572928,-5.419978936386315 L 29.339997592900346,-4.4999834122940925 L 29.753512404099865,-4.452389418153302 L 30.11632000000003,-4.090120000000013 L 30.505539999999996,-3.5685799999999404 L 30.752240000000086,-3.3593099999999936 L 30.743010000000027,-3.034309999999948 L 30.527660000000026,-2.807619999999986 L 30.469673645761223,-2.41385475710134 L 30.469670000000008,-2.4138299999999617 L 30.75830895358311,-2.2872502579883687 L 30.816134881317712,-1.6989140763453887 L 30.419104852019245,-1.1346591121504161 L 30.769860000000108,-1.0145499999999856 L 31.866170000000068,-1.0273599999999306 L 33.90371119710453,-0.9500000000000001 z\" /></g></svg>"
     },
     "metadata": {},
     "execution_count": 9
    }
   ],
   "source": [
    "import topojson as tp\n",
    "from shapely import geometry\n",
    "import topojson as tp\n",
    "import geopandas as gpd\n",
    "\n",
    "world = gpd.read_file(gpd.datasets.get_path(\"naturalearth_lowres\"))\n",
    "data = world.query('continent == \"Africa\"')\n",
    "data.geometry.to_list()[0]"
   ]
  },
  {
   "cell_type": "code",
   "execution_count": 5,
   "metadata": {},
   "outputs": [
    {
     "output_type": "execute_result",
     "data": {
      "text/html": "\n<div id=\"altair-viz-d65905091ef548188901f9b9f8469239\"></div>\n<script type=\"text/javascript\">\n  (function(spec, embedOpt){\n    let outputDiv = document.currentScript.previousElementSibling;\n    if (outputDiv.id !== \"altair-viz-d65905091ef548188901f9b9f8469239\") {\n      outputDiv = document.getElementById(\"altair-viz-d65905091ef548188901f9b9f8469239\");\n    }\n    const paths = {\n      \"vega\": \"https://cdn.jsdelivr.net/npm//vega@5?noext\",\n      \"vega-lib\": \"https://cdn.jsdelivr.net/npm//vega-lib?noext\",\n      \"vega-lite\": \"https://cdn.jsdelivr.net/npm//vega-lite@4.8.1?noext\",\n      \"vega-embed\": \"https://cdn.jsdelivr.net/npm//vega-embed@6?noext\",\n    };\n\n    function loadScript(lib) {\n      return new Promise(function(resolve, reject) {\n        var s = document.createElement('script');\n        s.src = paths[lib];\n        s.async = true;\n        s.onload = () => resolve(paths[lib]);\n        s.onerror = () => reject(`Error loading script: ${paths[lib]}`);\n        document.getElementsByTagName(\"head\")[0].appendChild(s);\n      });\n    }\n\n    function showError(err) {\n      outputDiv.innerHTML = `<div class=\"error\" style=\"color:red;\">${err}</div>`;\n      throw err;\n    }\n\n    function displayChart(vegaEmbed) {\n      vegaEmbed(outputDiv, spec, embedOpt)\n        .catch(err => showError(`Javascript Error: ${err.message}<br>This usually means there's a typo in your chart specification. See the javascript console for the full traceback.`));\n    }\n\n    if(typeof define === \"function\" && define.amd) {\n      requirejs.config({paths});\n      require([\"vega-embed\"], displayChart, err => showError(`Error loading script: ${err.message}`));\n    } else if (typeof vegaEmbed === \"function\") {\n      displayChart(vegaEmbed);\n    } else {\n      loadScript(\"vega\")\n        .then(() => loadScript(\"vega-lite\"))\n        .then(() => loadScript(\"vega-embed\"))\n        .catch(showError)\n        .then(() => displayChart(vegaEmbed));\n    }\n  })({\"config\": {\"view\": {\"continuousWidth\": 400, \"continuousHeight\": 300}}, \"hconcat\": [{\"data\": {\"name\": \"data-adde54e4df3dc58f1a3a79fcfbd0c306\", \"format\": {\"mesh\": \"data\", \"type\": \"topojson\"}}, \"mark\": {\"type\": \"geoshape\", \"filled\": false}, \"projection\": {\"reflectY\": true, \"type\": \"identity\"}, \"title\": \"WITHOUT Topology\", \"width\": 1000}, {\"data\": {\"name\": \"data-93ab7ef76c36982310e52544bb0d0057\", \"format\": {\"mesh\": \"data\", \"type\": \"topojson\"}}, \"mark\": {\"type\": \"geoshape\", \"filled\": false}, \"projection\": {\"reflectY\": true, \"type\": \"identity\"}, \"title\": \"WITH Topology\", \"width\": 1000}], \"$schema\": \"https://vega.github.io/schema/vega-lite/v4.8.1.json\", \"datasets\": {\"data-adde54e4df3dc58f1a3a79fcfbd0c306\": {\"type\": \"Topology\", \"objects\": {\"data\": {\"geometries\": [{\"properties\": {\"pop_est\": 53950935, \"continent\": \"Africa\", \"name\": \"Tanzania\", \"iso_a3\": \"TZA\", \"gdp_md_est\": 150600.0}, \"type\": \"Polygon\", \"arcs\": [[0]]}, {\"properties\": {\"pop_est\": 603253, \"continent\": \"Africa\", \"name\": \"W. Sahara\", \"iso_a3\": \"ESH\", \"gdp_md_est\": 906.5}, \"type\": \"Polygon\", \"arcs\": [[1]]}, {\"properties\": {\"pop_est\": 83301151, \"continent\": \"Africa\", \"name\": \"Dem. Rep. Congo\", \"iso_a3\": \"COD\", \"gdp_md_est\": 66010.0}, \"type\": \"Polygon\", \"arcs\": [[2]]}, {\"properties\": {\"pop_est\": 7531386, \"continent\": \"Africa\", \"name\": \"Somalia\", \"iso_a3\": \"SOM\", \"gdp_md_est\": 4719.0}, \"type\": \"Polygon\", \"arcs\": [[3]]}, {\"properties\": {\"pop_est\": 47615739, \"continent\": \"Africa\", \"name\": \"Kenya\", \"iso_a3\": \"KEN\", \"gdp_md_est\": 152700.0}, \"type\": \"Polygon\", \"arcs\": [[4]]}, {\"properties\": {\"pop_est\": 37345935, \"continent\": \"Africa\", \"name\": \"Sudan\", \"iso_a3\": \"SDN\", \"gdp_md_est\": 176300.0}, \"type\": \"Polygon\", \"arcs\": [[5]]}, {\"properties\": {\"pop_est\": 12075985, \"continent\": \"Africa\", \"name\": \"Chad\", \"iso_a3\": \"TCD\", \"gdp_md_est\": 30590.0}, \"type\": \"Polygon\", \"arcs\": [[6]]}, {\"properties\": {\"pop_est\": 54841552, \"continent\": \"Africa\", \"name\": \"South Africa\", \"iso_a3\": \"ZAF\", \"gdp_md_est\": 739100.0}, \"type\": \"Polygon\", \"arcs\": [[7], [8]]}, {\"properties\": {\"pop_est\": 1958042, \"continent\": \"Africa\", \"name\": \"Lesotho\", \"iso_a3\": \"LSO\", \"gdp_md_est\": 6019.0}, \"type\": \"Polygon\", \"arcs\": [[8]]}, {\"properties\": {\"pop_est\": 13805084, \"continent\": \"Africa\", \"name\": \"Zimbabwe\", \"iso_a3\": \"ZWE\", \"gdp_md_est\": 28330.0}, \"type\": \"Polygon\", \"arcs\": [[9]]}, {\"properties\": {\"pop_est\": 2214858, \"continent\": \"Africa\", \"name\": \"Botswana\", \"iso_a3\": \"BWA\", \"gdp_md_est\": 35900.0}, \"type\": \"Polygon\", \"arcs\": [[10]]}, {\"properties\": {\"pop_est\": 2484780, \"continent\": \"Africa\", \"name\": \"Namibia\", \"iso_a3\": \"NAM\", \"gdp_md_est\": 25990.0}, \"type\": \"Polygon\", \"arcs\": [[11]]}, {\"properties\": {\"pop_est\": 14668522, \"continent\": \"Africa\", \"name\": \"Senegal\", \"iso_a3\": \"SEN\", \"gdp_md_est\": 39720.0}, \"type\": \"Polygon\", \"arcs\": [[12]]}, {\"properties\": {\"pop_est\": 17885245, \"continent\": \"Africa\", \"name\": \"Mali\", \"iso_a3\": \"MLI\", \"gdp_md_est\": 38090.0}, \"type\": \"Polygon\", \"arcs\": [[13]]}, {\"properties\": {\"pop_est\": 3758571, \"continent\": \"Africa\", \"name\": \"Mauritania\", \"iso_a3\": \"MRT\", \"gdp_md_est\": 16710.0}, \"type\": \"Polygon\", \"arcs\": [[14]]}, {\"properties\": {\"pop_est\": 11038805, \"continent\": \"Africa\", \"name\": \"Benin\", \"iso_a3\": \"BEN\", \"gdp_md_est\": 24310.0}, \"type\": \"Polygon\", \"arcs\": [[15]]}, {\"properties\": {\"pop_est\": 19245344, \"continent\": \"Africa\", \"name\": \"Niger\", \"iso_a3\": \"NER\", \"gdp_md_est\": 20150.0}, \"type\": \"Polygon\", \"arcs\": [[16]]}, {\"properties\": {\"pop_est\": 190632261, \"continent\": \"Africa\", \"name\": \"Nigeria\", \"iso_a3\": \"NGA\", \"gdp_md_est\": 1089000.0}, \"type\": \"Polygon\", \"arcs\": [[17]]}, {\"properties\": {\"pop_est\": 24994885, \"continent\": \"Africa\", \"name\": \"Cameroon\", \"iso_a3\": \"CMR\", \"gdp_md_est\": 77240.0}, \"type\": \"Polygon\", \"arcs\": [[18]]}, {\"properties\": {\"pop_est\": 7965055, \"continent\": \"Africa\", \"name\": \"Togo\", \"iso_a3\": \"TGO\", \"gdp_md_est\": 11610.0}, \"type\": \"Polygon\", \"arcs\": [[19]]}, {\"properties\": {\"pop_est\": 27499924, \"continent\": \"Africa\", \"name\": \"Ghana\", \"iso_a3\": \"GHA\", \"gdp_md_est\": 120800.0}, \"type\": \"Polygon\", \"arcs\": [[20]]}, {\"properties\": {\"pop_est\": 24184810, \"continent\": \"Africa\", \"name\": \"C\\u00f4te d'Ivoire\", \"iso_a3\": \"CIV\", \"gdp_md_est\": 87120.0}, \"type\": \"Polygon\", \"arcs\": [[21]]}, {\"properties\": {\"pop_est\": 12413867, \"continent\": \"Africa\", \"name\": \"Guinea\", \"iso_a3\": \"GIN\", \"gdp_md_est\": 16080.0}, \"type\": \"Polygon\", \"arcs\": [[22]]}, {\"properties\": {\"pop_est\": 1792338, \"continent\": \"Africa\", \"name\": \"Guinea-Bissau\", \"iso_a3\": \"GNB\", \"gdp_md_est\": 2851.0}, \"type\": \"Polygon\", \"arcs\": [[23]]}, {\"properties\": {\"pop_est\": 4689021, \"continent\": \"Africa\", \"name\": \"Liberia\", \"iso_a3\": \"LBR\", \"gdp_md_est\": 3881.0}, \"type\": \"Polygon\", \"arcs\": [[24]]}, {\"properties\": {\"pop_est\": 6163195, \"continent\": \"Africa\", \"name\": \"Sierra Leone\", \"iso_a3\": \"SLE\", \"gdp_md_est\": 10640.0}, \"type\": \"Polygon\", \"arcs\": [[25]]}, {\"properties\": {\"pop_est\": 20107509, \"continent\": \"Africa\", \"name\": \"Burkina Faso\", \"iso_a3\": \"BFA\", \"gdp_md_est\": 32990.0}, \"type\": \"Polygon\", \"arcs\": [[26]]}, {\"properties\": {\"pop_est\": 5625118, \"continent\": \"Africa\", \"name\": \"Central African Rep.\", \"iso_a3\": \"CAF\", \"gdp_md_est\": 3206.0}, \"type\": \"Polygon\", \"arcs\": [[27]]}, {\"properties\": {\"pop_est\": 4954674, \"continent\": \"Africa\", \"name\": \"Congo\", \"iso_a3\": \"COG\", \"gdp_md_est\": 30270.0}, \"type\": \"Polygon\", \"arcs\": [[28]]}, {\"properties\": {\"pop_est\": 1772255, \"continent\": \"Africa\", \"name\": \"Gabon\", \"iso_a3\": \"GAB\", \"gdp_md_est\": 35980.0}, \"type\": \"Polygon\", \"arcs\": [[29]]}, {\"properties\": {\"pop_est\": 778358, \"continent\": \"Africa\", \"name\": \"Eq. Guinea\", \"iso_a3\": \"GNQ\", \"gdp_md_est\": 31770.0}, \"type\": \"Polygon\", \"arcs\": [[30]]}, {\"properties\": {\"pop_est\": 15972000, \"continent\": \"Africa\", \"name\": \"Zambia\", \"iso_a3\": \"ZMB\", \"gdp_md_est\": 65170.0}, \"type\": \"Polygon\", \"arcs\": [[31]]}, {\"properties\": {\"pop_est\": 19196246, \"continent\": \"Africa\", \"name\": \"Malawi\", \"iso_a3\": \"MWI\", \"gdp_md_est\": 21200.0}, \"type\": \"Polygon\", \"arcs\": [[32]]}, {\"properties\": {\"pop_est\": 26573706, \"continent\": \"Africa\", \"name\": \"Mozambique\", \"iso_a3\": \"MOZ\", \"gdp_md_est\": 35010.0}, \"type\": \"Polygon\", \"arcs\": [[33]]}, {\"properties\": {\"pop_est\": 1467152, \"continent\": \"Africa\", \"name\": \"eSwatini\", \"iso_a3\": \"SWZ\", \"gdp_md_est\": 11060.0}, \"type\": \"Polygon\", \"arcs\": [[34]]}, {\"properties\": {\"pop_est\": 29310273, \"continent\": \"Africa\", \"name\": \"Angola\", \"iso_a3\": \"AGO\", \"gdp_md_est\": 189000.0}, \"type\": \"MultiPolygon\", \"arcs\": [[[35]], [[36]]]}, {\"properties\": {\"pop_est\": 11466756, \"continent\": \"Africa\", \"name\": \"Burundi\", \"iso_a3\": \"BDI\", \"gdp_md_est\": 7892.0}, \"type\": \"Polygon\", \"arcs\": [[37]]}, {\"properties\": {\"pop_est\": 25054161, \"continent\": \"Africa\", \"name\": \"Madagascar\", \"iso_a3\": \"MDG\", \"gdp_md_est\": 36860.0}, \"type\": \"Polygon\", \"arcs\": [[38]]}, {\"properties\": {\"pop_est\": 2051363, \"continent\": \"Africa\", \"name\": \"Gambia\", \"iso_a3\": \"GMB\", \"gdp_md_est\": 3387.0}, \"type\": \"Polygon\", \"arcs\": [[39]]}, {\"properties\": {\"pop_est\": 11403800, \"continent\": \"Africa\", \"name\": \"Tunisia\", \"iso_a3\": \"TUN\", \"gdp_md_est\": 130800.0}, \"type\": \"Polygon\", \"arcs\": [[40]]}, {\"properties\": {\"pop_est\": 40969443, \"continent\": \"Africa\", \"name\": \"Algeria\", \"iso_a3\": \"DZA\", \"gdp_md_est\": 609400.0}, \"type\": \"Polygon\", \"arcs\": [[41]]}, {\"properties\": {\"pop_est\": 5918919, \"continent\": \"Africa\", \"name\": \"Eritrea\", \"iso_a3\": \"ERI\", \"gdp_md_est\": 9169.0}, \"type\": \"Polygon\", \"arcs\": [[42]]}, {\"properties\": {\"pop_est\": 33986655, \"continent\": \"Africa\", \"name\": \"Morocco\", \"iso_a3\": \"MAR\", \"gdp_md_est\": 282800.0}, \"type\": \"Polygon\", \"arcs\": [[43]]}, {\"properties\": {\"pop_est\": 97041072, \"continent\": \"Africa\", \"name\": \"Egypt\", \"iso_a3\": \"EGY\", \"gdp_md_est\": 1105000.0}, \"type\": \"Polygon\", \"arcs\": [[44]]}, {\"properties\": {\"pop_est\": 6653210, \"continent\": \"Africa\", \"name\": \"Libya\", \"iso_a3\": \"LBY\", \"gdp_md_est\": 90890.0}, \"type\": \"Polygon\", \"arcs\": [[45]]}, {\"properties\": {\"pop_est\": 105350020, \"continent\": \"Africa\", \"name\": \"Ethiopia\", \"iso_a3\": \"ETH\", \"gdp_md_est\": 174700.0}, \"type\": \"Polygon\", \"arcs\": [[46]]}, {\"properties\": {\"pop_est\": 865267, \"continent\": \"Africa\", \"name\": \"Djibouti\", \"iso_a3\": \"DJI\", \"gdp_md_est\": 3345.0}, \"type\": \"Polygon\", \"arcs\": [[47]]}, {\"properties\": {\"pop_est\": 3500000, \"continent\": \"Africa\", \"name\": \"Somaliland\", \"iso_a3\": \"-99\", \"gdp_md_est\": 12250.0}, \"type\": \"Polygon\", \"arcs\": [[48]]}, {\"properties\": {\"pop_est\": 39570125, \"continent\": \"Africa\", \"name\": \"Uganda\", \"iso_a3\": \"UGA\", \"gdp_md_est\": 84930.0}, \"type\": \"Polygon\", \"arcs\": [[49]]}, {\"properties\": {\"pop_est\": 11901484, \"continent\": \"Africa\", \"name\": \"Rwanda\", \"iso_a3\": \"RWA\", \"gdp_md_est\": 21970.0}, \"type\": \"Polygon\", \"arcs\": [[50]]}, {\"properties\": {\"pop_est\": 13026129, \"continent\": \"Africa\", \"name\": \"S. Sudan\", \"iso_a3\": \"SSD\", \"gdp_md_est\": 20880.0}, \"type\": \"Polygon\", \"arcs\": [[51]]}], \"type\": \"GeometryCollection\"}}, \"bbox\": [-17.62504269049066, -34.81916635512371, 51.13387, 37.349994411766545], \"transform\": {\"scale\": [6.875898144947212e-05, 7.21692329361232e-05], \"translate\": [-17.62504269049066, -34.81916635512371]}, \"arcs\": [[[749411, 469302], [77059, -51639], [4637, -86188], [-143996, 60647], [62300, 77180]], [[130302, 865682], [-315, -24600], [-47734, 724], [-13957, -63826], [-60128, -4535], [82475, 81526], [39659, 10711]], [[683039, 420112], [5230, -121343], [-254764, 103469], [105957, 149946], [149045, -5968], [-5468, -126104]], [[861126, 459142], [-8785, 61907], [147328, 128034], [-36601, -92637], [-101942, -97304]], [[826470, 417663], [-77059, 51639], [20278, 89456], [95363, -21991], [-38582, -119104]], [[613628, 596492], [-11076, 6057], [-5044, 3990], [-22138, 50352], [44550, 130414], [172577, 0], [-42049, -184503], [-136820, -6310]], [[603015, 753779], [-14158, -116921], [-110309, -51552], [-6227, 213956], [130694, -45483]], [[494045, 86498], [190334, 89863], [49418, -64444], [-185559, -111584], [-54193, 86165]], [[677778, 81247], [-12669, -22033], [-16113, 9281], [15635, 14195], [13147, -1443]], [[709965, 174141], [-46104, 10608], [-40099, 51953], [110290, 14177], [-24087, -76738]], [[684379, 176361], [-113822, -64227], [-24871, 27141], [14760, 90282], [123933, -53196]], [[545686, 139275], [-51641, -52777], [-67057, 156227], [194051, -3837], [-75353, -99613]], [[13254, 670842], [31070, 41614], [44553, -57576], [-75096, -806], [-527, 16768]], [[88877, 654880], [86915, 42382], [-13322, 131010], [155924, -80385], [-140662, -121721], [-88855, 28714]], [[8168, 773445], [121861, 88625], [54699, -33549], [-8936, -131259], [-158893, 8776], [-8731, 67407]], [[295478, 569190], [-27915, 58362], [30197, 24454], [13794, -20796], [-16076, -62020]], [[472321, 799262], [-9743, -143819], [-191353, 5102], [47169, 87342], [153927, 51375]], [[295478, 569190], [24384, 103765], [148473, -23031], [-88380, -101336], [-84477, 20602]], [[467151, 660649], [21017, -154244], [-91504, 7706], [-12968, 44283], [83455, 102255]], [[269414, 634848], [14044, -67275], [-11709, -2956], [-16142, 66207], [13807, 4024]], [[256677, 635144], [15072, -70527], [-56956, -12946], [-1226, 82697], [43110, 776]], [[139547, 623891], [75662, -7816], [-416, -64404], [-70624, -8729], [-4622, 80949]], [[57077, 656864], [66508, -3854], [12315, -64028], [-72221, 16847], [-6602, 51035]], [[13781, 654074], [43296, 2790], [-621, -10738], [-20174, -10681], [-22501, 18629]], [[133593, 588966], [12641, -27418], [-2065, -18606], [-54199, 33551], [43623, 12473]], [[63679, 605829], [30964, 15835], [12906, -22719], [-17579, -22452], [-26291, 29336]], [[177732, 626166], [63090, 63781], [47172, -32545], [-72785, -41327], [-37477, 10091]], [[654449, 554989], [-165234, -41102], [-22593, 44120], [122235, 78851], [65592, -81869]], [[524704, 531023], [-35585, -97541], [-59502, -20824], [16883, 101221], [78204, 17144]], [[420330, 513795], [45798, -49806], [-48454, -36655], [-33389, 39733], [36045, 46728]], [[396664, 514111], [23666, -316], [126, -16674], [-26065, -659], [2273, 17649]], [[703400, 366904], [35981, -78037], [-145421, -49207], [-18633, 64081], [128073, 63163]], [[732769, 354563], [22115, -12878], [20460, -61675], [-9497, -30349], [-33078, 104902]], [[758956, 322840], [90395, -43948], [-126584, -166859], [-27519, 165413], [70599, -27785], [-6891, 73179]], [[722767, 112033], [-20153, -139], [5208, 14028], [11543, -1550], [3402, -12339]], [[445332, 416217], [-5293, -2912], [-6534, -11067], [-3888, 10420], [15715, 3559]], [[435543, 397941], [136792, -16500], [21625, -141781], [-166972, 3065], [8555, 155216]], [[699468, 449018], [4110, -13100], [-20539, -15806], [-4583, 23012], [21012, 5894]], [[976870, 309680], [12123, -44843], [-72247, -137113], [-21036, 113504], [81160, 68452]], [[13254, 670842], [23735, 3901], [17987, -5147], [-43581, -4901], [1859, 6147]], [[394235, 902417], [-28472, 52513], [28877, 45069], [28779, -58377], [-29184, -39205]], [[130029, 862070], [248773, 132337], [52044, -186711], [-128585, -61166], [-172232, 115540]], [[786145, 682303], [28805, 49553], [67935, -73420], [-44430, 25218], [-52310, -1351]], [[224773, 969770], [12536, -40260], [-228516, -150210], [121627, 163753], [94353, 26717]], [[792497, 787305], [-172577, 0], [2397, 132593], [132355, -4847], [37825, -127746]], [[619920, 787305], [-213735, 32968], [-5143, 96949], [217731, 7251], [1147, -137168]], [[951359, 593358], [-119694, -63475], [-96063, 60454], [72018, 99411], [143739, -96390]], [[872273, 656255], [14053, -2108], [-7868, -20275], [-14853, 1718], [8668, 20665]], [[968212, 640575], [-16853, -47217], [-76073, 35605], [8531, 12324], [84395, -712]], [[749411, 469302], [-62890, -5422], [24231, 70989], [47028, -3136], [-8369, -62431]], [[698733, 466743], [4933, -15970], [-25210, -7649], [3883, 16894], [16394, 6725]], [[704765, 531090], [-101033, 70813], [135546, 49323], [30411, -92468], [-64924, -27668]]]}, \"data-93ab7ef76c36982310e52544bb0d0057\": {\"type\": \"Topology\", \"objects\": {\"data\": {\"geometries\": [{\"properties\": {\"pop_est\": 53950935, \"continent\": \"Africa\", \"name\": \"Tanzania\", \"iso_a3\": \"TZA\", \"gdp_md_est\": 150600.0}, \"type\": \"Polygon\", \"arcs\": [[-6, 0, -84, -82, -77, -3, -100, -140, -137]]}, {\"properties\": {\"pop_est\": 603253, \"continent\": \"Africa\", \"name\": \"W. Sahara\", \"iso_a3\": \"ESH\", \"gdp_md_est\": 906.5}, \"type\": \"Polygon\", \"arcs\": [[-106, -22, 1, -115]]}, {\"properties\": {\"pop_est\": 83301151, \"continent\": \"Africa\", \"name\": \"Dem. Rep. Congo\", \"iso_a3\": \"COD\", \"gdp_md_est\": 66010.0}, \"type\": \"Polygon\", \"arcs\": [[2, -81, -96, 3, -93, -67, -63, -144, -138, -142, -101]]}, {\"properties\": {\"pop_est\": 7531386, \"continent\": \"Africa\", \"name\": \"Somalia\", \"iso_a3\": \"SOM\", \"gdp_md_est\": 4719.0}, \"type\": \"Polygon\", \"arcs\": [[-7, -126, -133, 4]]}, {\"properties\": {\"pop_est\": 47615739, \"continent\": \"Africa\", \"name\": \"Kenya\", \"iso_a3\": \"KEN\", \"gdp_md_est\": 152700.0}, \"type\": \"Polygon\", \"arcs\": [[5, -139, -148, -127, 6, 7]]}, {\"properties\": {\"pop_est\": 37345935, \"continent\": \"Africa\", \"name\": \"Sudan\", \"iso_a3\": \"SDN\", \"gdp_md_est\": 176300.0}, \"type\": \"Polygon\", \"arcs\": [[-66, -10, -119, -117, 8, -112, -128, -146]]}, {\"properties\": {\"pop_est\": 12075985, \"continent\": \"Africa\", \"name\": \"Chad\", \"iso_a3\": \"TCD\", \"gdp_md_est\": 30590.0}, \"type\": \"Polygon\", \"arcs\": [[9, -65, -33, -27, -120]]}, {\"properties\": {\"pop_est\": 54841552, \"continent\": \"Africa\", \"name\": \"South Africa\", \"iso_a3\": \"ZAF\", \"gdp_md_est\": 739100.0}, \"type\": \"Polygon\", \"arcs\": [[-16, -14, -13, -87, -91, -86, 10], [11]]}, {\"properties\": {\"pop_est\": 1958042, \"continent\": \"Africa\", \"name\": \"Lesotho\", \"iso_a3\": \"LSO\", \"gdp_md_est\": 6019.0}, \"type\": \"Polygon\", \"arcs\": [[11]]}, {\"properties\": {\"pop_est\": 13805084, \"continent\": \"Africa\", \"name\": \"Zimbabwe\", \"iso_a3\": \"ZWE\", \"gdp_md_est\": 28330.0}, \"type\": \"Polygon\", \"arcs\": [[12, -15, -78, -88]]}, {\"properties\": {\"pop_est\": 2214858, \"continent\": \"Africa\", \"name\": \"Botswana\", \"iso_a3\": \"BWA\", \"gdp_md_est\": 35900.0}, \"type\": \"Polygon\", \"arcs\": [[13, -18, -79, 14]]}, {\"properties\": {\"pop_est\": 2484780, \"continent\": \"Africa\", \"name\": \"Namibia\", \"iso_a3\": \"NAM\", \"gdp_md_est\": 25990.0}, \"type\": \"Polygon\", \"arcs\": [[15, 16, -98, -80, 17]]}, {\"properties\": {\"pop_est\": 14668522, \"continent\": \"Africa\", \"name\": \"Senegal\", \"iso_a3\": \"SEN\", \"gdp_md_est\": 39720.0}, \"type\": \"Polygon\", \"arcs\": [[18, -24, -21, -44, -48, 19, -103]]}, {\"properties\": {\"pop_est\": 17885245, \"continent\": \"Africa\", \"name\": \"Mali\", \"iso_a3\": \"MLI\", \"gdp_md_est\": 38090.0}, \"type\": \"Polygon\", \"arcs\": [[20, -23, -110, -29, -57, -41, -45]]}, {\"properties\": {\"pop_est\": 3758571, \"continent\": \"Africa\", \"name\": \"Mauritania\", \"iso_a3\": \"MRT\", \"gdp_md_est\": 16710.0}, \"type\": \"Polygon\", \"arcs\": [[21, -111, 22, 23, 24]]}, {\"properties\": {\"pop_est\": 11038805, \"continent\": \"Africa\", \"name\": \"Benin\", \"iso_a3\": \"BEN\", \"gdp_md_est\": 24310.0}, \"type\": \"Polygon\", \"arcs\": [[25, -37, -59, -28, -30]]}, {\"properties\": {\"pop_est\": 19245344, \"continent\": \"Africa\", \"name\": \"Niger\", \"iso_a3\": \"NER\", \"gdp_md_est\": 20150.0}, \"type\": \"Polygon\", \"arcs\": [[26, -36, -31, 27, -58, 28, -109, -121]]}, {\"properties\": {\"pop_est\": 190632261, \"continent\": \"Africa\", \"name\": \"Nigeria\", \"iso_a3\": \"NGA\", \"gdp_md_est\": 1089000.0}, \"type\": \"Polygon\", \"arcs\": [[29, 30, -35, 31]]}, {\"properties\": {\"pop_est\": 24994885, \"continent\": \"Africa\", \"name\": \"Cameroon\", \"iso_a3\": \"CMR\", \"gdp_md_est\": 77240.0}, \"type\": \"Polygon\", \"arcs\": [[32, -64, -69, -71, -74, 33, 34, 35]]}, {\"properties\": {\"pop_est\": 7965055, \"continent\": \"Africa\", \"name\": \"Togo\", \"iso_a3\": \"TGO\", \"gdp_md_est\": 11610.0}, \"type\": \"Polygon\", \"arcs\": [[36, 37, -39, -60]]}, {\"properties\": {\"pop_est\": 27499924, \"continent\": \"Africa\", \"name\": \"Ghana\", \"iso_a3\": \"GHA\", \"gdp_md_est\": 120800.0}, \"type\": \"Polygon\", \"arcs\": [[38, 39, -42, -61]]}, {\"properties\": {\"pop_est\": 24184810, \"continent\": \"Africa\", \"name\": \"C\\u00f4te d'Ivoire\", \"iso_a3\": \"CIV\", \"gdp_md_est\": 87120.0}, \"type\": \"Polygon\", \"arcs\": [[40, -62, 41, 42, -51, -46]]}, {\"properties\": {\"pop_est\": 12413867, \"continent\": \"Africa\", \"name\": \"Guinea\", \"iso_a3\": \"GIN\", \"gdp_md_est\": 16080.0}, \"type\": \"Polygon\", \"arcs\": [[43, 44, 45, -53, -54, 46, -49]]}, {\"properties\": {\"pop_est\": 1792338, \"continent\": \"Africa\", \"name\": \"Guinea-Bissau\", \"iso_a3\": \"GNB\", \"gdp_md_est\": 2851.0}, \"type\": \"Polygon\", \"arcs\": [[47, 48, 49]]}, {\"properties\": {\"pop_est\": 4689021, \"continent\": \"Africa\", \"name\": \"Liberia\", \"iso_a3\": \"LBR\", \"gdp_md_est\": 3881.0}, \"type\": \"Polygon\", \"arcs\": [[50, 51, -55, 52]]}, {\"properties\": {\"pop_est\": 6163195, \"continent\": \"Africa\", \"name\": \"Sierra Leone\", \"iso_a3\": \"SLE\", \"gdp_md_est\": 10640.0}, \"type\": \"Polygon\", \"arcs\": [[53, 54, 55]]}, {\"properties\": {\"pop_est\": 20107509, \"continent\": \"Africa\", \"name\": \"Burkina Faso\", \"iso_a3\": \"BFA\", \"gdp_md_est\": 32990.0}, \"type\": \"Polygon\", \"arcs\": [[56, 57, 58, 59, 60, 61]]}, {\"properties\": {\"pop_est\": 5625118, \"continent\": \"Africa\", \"name\": \"Central African Rep.\", \"iso_a3\": \"CAF\", \"gdp_md_est\": 3206.0}, \"type\": \"Polygon\", \"arcs\": [[62, -70, 63, 64, 65, -145]]}, {\"properties\": {\"pop_est\": 4954674, \"continent\": \"Africa\", \"name\": \"Congo\", \"iso_a3\": \"COG\", \"gdp_md_est\": 30270.0}, \"type\": \"Polygon\", \"arcs\": [[66, -95, 67, -72, 68, 69]]}, {\"properties\": {\"pop_est\": 1772255, \"continent\": \"Africa\", \"name\": \"Gabon\", \"iso_a3\": \"GAB\", \"gdp_md_est\": 35980.0}, \"type\": \"Polygon\", \"arcs\": [[70, 71, 72, -75]]}, {\"properties\": {\"pop_est\": 778358, \"continent\": \"Africa\", \"name\": \"Eq. Guinea\", \"iso_a3\": \"GNQ\", \"gdp_md_est\": 31770.0}, \"type\": \"Polygon\", \"arcs\": [[73, 74, 75]]}, {\"properties\": {\"pop_est\": 15972000, \"continent\": \"Africa\", \"name\": \"Zambia\", \"iso_a3\": \"ZMB\", \"gdp_md_est\": 65170.0}, \"type\": \"Polygon\", \"arcs\": [[76, -83, -89, 77, 78, 79, -97, 80]]}, {\"properties\": {\"pop_est\": 19196246, \"continent\": \"Africa\", \"name\": \"Malawi\", \"iso_a3\": \"MWI\", \"gdp_md_est\": 21200.0}, \"type\": \"Polygon\", \"arcs\": [[81, -90, 82]]}, {\"properties\": {\"pop_est\": 26573706, \"continent\": \"Africa\", \"name\": \"Mozambique\", \"iso_a3\": \"MOZ\", \"gdp_md_est\": 35010.0}, \"type\": \"Polygon\", \"arcs\": [[83, 84, 85, -92, 86, 87, 88, 89]]}, {\"properties\": {\"pop_est\": 1467152, \"continent\": \"Africa\", \"name\": \"eSwatini\", \"iso_a3\": \"SWZ\", \"gdp_md_est\": 11060.0}, \"type\": \"Polygon\", \"arcs\": [[90, 91]]}, {\"properties\": {\"pop_est\": 29310273, \"continent\": \"Africa\", \"name\": \"Angola\", \"iso_a3\": \"AGO\", \"gdp_md_est\": 189000.0}, \"type\": \"MultiPolygon\", \"arcs\": [[[92, 93, 94]], [[95, 96, 97, 98]]]}, {\"properties\": {\"pop_est\": 11466756, \"continent\": \"Africa\", \"name\": \"Burundi\", \"iso_a3\": \"BDI\", \"gdp_md_est\": 7892.0}, \"type\": \"Polygon\", \"arcs\": [[99, 100, -141]]}, {\"properties\": {\"pop_est\": 25054161, \"continent\": \"Africa\", \"name\": \"Madagascar\", \"iso_a3\": \"MDG\", \"gdp_md_est\": 36860.0}, \"type\": \"Polygon\", \"arcs\": [[101]]}, {\"properties\": {\"pop_est\": 2051363, \"continent\": \"Africa\", \"name\": \"Gambia\", \"iso_a3\": \"GMB\", \"gdp_md_est\": 3387.0}, \"type\": \"Polygon\", \"arcs\": [[102, 103]]}, {\"properties\": {\"pop_est\": 11403800, \"continent\": \"Africa\", \"name\": \"Tunisia\", \"iso_a3\": \"TUN\", \"gdp_md_est\": 130800.0}, \"type\": \"Polygon\", \"arcs\": [[-108, 104, -123]]}, {\"properties\": {\"pop_est\": 40969443, \"continent\": \"Africa\", \"name\": \"Algeria\", \"iso_a3\": \"DZA\", \"gdp_md_est\": 609400.0}, \"type\": \"Polygon\", \"arcs\": [[105, -114, 106, 107, -122, 108, 109, 110]]}, {\"properties\": {\"pop_est\": 5918919, \"continent\": \"Africa\", \"name\": \"Eritrea\", \"iso_a3\": \"ERI\", \"gdp_md_est\": 9169.0}, \"type\": \"Polygon\", \"arcs\": [[111, 112, -130, -129]]}, {\"properties\": {\"pop_est\": 33986655, \"continent\": \"Africa\", \"name\": \"Morocco\", \"iso_a3\": \"MAR\", \"gdp_md_est\": 282800.0}, \"type\": \"Polygon\", \"arcs\": [[113, 114, 115]]}, {\"properties\": {\"pop_est\": 97041072, \"continent\": \"Africa\", \"name\": \"Egypt\", \"iso_a3\": \"EGY\", \"gdp_md_est\": 1105000.0}, \"type\": \"Polygon\", \"arcs\": [[116, -125, 117]]}, {\"properties\": {\"pop_est\": 6653210, \"continent\": \"Africa\", \"name\": \"Libya\", \"iso_a3\": \"LBY\", \"gdp_md_est\": 90890.0}, \"type\": \"Polygon\", \"arcs\": [[118, 119, 120, 121, 122, 123, 124]]}, {\"properties\": {\"pop_est\": 105350020, \"continent\": \"Africa\", \"name\": \"Ethiopia\", \"iso_a3\": \"ETH\", \"gdp_md_est\": 174700.0}, \"type\": \"Polygon\", \"arcs\": [[125, 126, -147, 127, 128, -132, -134]]}, {\"properties\": {\"pop_est\": 865267, \"continent\": \"Africa\", \"name\": \"Djibouti\", \"iso_a3\": \"DJI\", \"gdp_md_est\": 3345.0}, \"type\": \"Polygon\", \"arcs\": [[129, 130, -135, 131]]}, {\"properties\": {\"pop_est\": 3500000, \"continent\": \"Africa\", \"name\": \"Somaliland\", \"iso_a3\": \"-99\", \"gdp_md_est\": 12250.0}, \"type\": \"Polygon\", \"arcs\": [[132, 133, 134, 135]]}, {\"properties\": {\"pop_est\": 39570125, \"continent\": \"Africa\", \"name\": \"Uganda\", \"iso_a3\": \"UGA\", \"gdp_md_est\": 84930.0}, \"type\": \"Polygon\", \"arcs\": [[136, -143, 137, -149, 138]]}, {\"properties\": {\"pop_est\": 11901484, \"continent\": \"Africa\", \"name\": \"Rwanda\", \"iso_a3\": \"RWA\", \"gdp_md_est\": 21970.0}, \"type\": \"Polygon\", \"arcs\": [[139, 140, 141, 142]]}, {\"properties\": {\"pop_est\": 13026129, \"continent\": \"Africa\", \"name\": \"S. Sudan\", \"iso_a3\": \"SSD\", \"gdp_md_est\": 20880.0}, \"type\": \"Polygon\", \"arcs\": [[143, 144, 145, 146, 147, 148]]}], \"type\": \"GeometryCollection\"}}, \"bbox\": [-17.62504269049066, -34.81916635512371, 51.13387, 37.349994411766545], \"transform\": {\"scale\": [6.875898144947212e-05, 7.21692329361232e-05], \"translate\": [-17.62504269049066, -34.81916635512371]}, \"arcs\": [[[826470, 417663], [16207, -78154]], [[8168, 773445], [625, 5855]], [[683039, 420112], [20361, -53208]], [[435543, 397941], [-2038, 4297]], [[968212, 640575], [-107086, -181433]], [[826470, 417663], [-77059, 51639]], [[865052, 536767], [-3926, -77625]], [[861126, 459142], [-34656, -41479]], [[792497, 787305], [22453, -55449]], [[603015, 753779], [-14158, -116921]], [[733797, 111917], [-185559, -111584], [-54193, 86165]], [[677778, 81247], [-12669, -22033], [-16113, 9281], [15635, 14195], [13147, -1443]], [[709965, 174141], [-25586, 2220]], [[684379, 176361], [-138693, -37086]], [[623762, 236702], [60617, -60341]], [[545686, 139275], [-51641, -52777]], [[494045, 86498], [-67057, 156227]], [[621148, 237738], [-75462, -98463]], [[13254, 670842], [3645, 35196]], [[13781, 654074], [-2386, 10621]], [[88877, 654880], [-9552, 30121]], [[8168, 773445], [121861, 88625]], [[184728, 828521], [-8936, -131259], [-96467, -12261]], [[79325, 685001], [-62426, 21037]], [[16899, 706038], [-8731, 67407]], [[295478, 569190], [-12020, -1617]], [[472321, 799262], [-5170, -138613]], [[308850, 644033], [-21186, 3879]], [[261783, 689325], [56611, 58562]], [[295478, 569190], [13372, 74843]], [[308850, 644033], [153728, 11410]], [[379955, 548588], [-84477, 20602]], [[467151, 660649], [11397, -75343]], [[396664, 514111], [-16709, 34477]], [[379955, 548588], [82623, 106855]], [[462578, 655443], [4573, 5206]], [[269414, 634848], [14044, -67275]], [[283458, 567573], [-11709, -2956]], [[256677, 635144], [15072, -70527]], [[271749, 564617], [-56956, -12946]], [[139547, 623891], [38185, 2275]], [[215209, 616075], [-416, -64404]], [[214793, 551671], [-70624, -8729]], [[57077, 656864], [31800, -1984]], [[88877, 654880], [50670, -30989]], [[139547, 623891], [-5954, -34925]], [[63679, 605829], [-27397, 29616]], [[13781, 654074], [43296, 2790]], [[57077, 656864], [-20795, -21419]], [[36282, 635445], [-22501, 18629]], [[133593, 588966], [10576, -46024]], [[144169, 542942], [-54199, 33551]], [[107549, 598945], [26044, -9979]], [[63679, 605829], [43870, -6884]], [[107549, 598945], [-17579, -22452]], [[89970, 576493], [-26291, 29336]], [[177732, 626166], [84051, 63159]], [[261783, 689325], [25881, -41413]], [[287664, 647912], [-18250, -13064]], [[269414, 634848], [-12737, 296]], [[256677, 635144], [-41468, -19069]], [[215209, 616075], [-37477, 10091]], [[654449, 554989], [-129745, -23966]], [[489215, 513887], [-10667, 71419]], [[478548, 585306], [110309, 51552]], [[588857, 636858], [24771, -40366]], [[524704, 531023], [-79372, -114806]], [[429617, 412658], [-11943, 14676]], [[446500, 513879], [42715, 8]], [[489215, 513887], [35489, 17136]], [[420330, 513795], [26170, 84]], [[446500, 513879], [-28826, -86545]], [[417674, 427334], [-23283, 69128]], [[396664, 514111], [23666, -316]], [[420330, 513795], [-25939, -17333]], [[394391, 496462], [2273, 17649]], [[703400, 366904], [29369, -12341]], [[696626, 267585], [-72864, -30883]], [[623762, 236702], [-2614, 1036]], [[621148, 237738], [-27188, 1922]], [[604099, 331060], [84170, -32291], [15131, 68135]], [[732769, 354563], [26187, -31723]], [[739381, 288867], [-6612, 65696]], [[758956, 322840], [83721, 16669]], [[842677, 339509], [-108880, -227592]], [[733797, 111917], [-11030, 116]], [[719365, 124372], [-9400, 49769]], [[709965, 174141], [-13339, 93444]], [[696626, 267585], [42755, 21282]], [[739381, 288867], [19575, 33973]], [[722767, 112033], [-3402, 12339]], [[719365, 124372], [3402, -12339]], [[445332, 416217], [-11827, -13979]], [[433505, 402238], [-3888, 10420]], [[429617, 412658], [15715, 3559]], [[435543, 397941], [168556, -66881]], [[604099, 331060], [-10139, -91400]], [[593960, 239660], [-166972, 3065]], [[426988, 242725], [8555, 155216]], [[699468, 449018], [-16429, -28906]], [[683039, 420112], [-4583, 23012]], [[976870, 309680], [12123, -44843], [-72247, -137113], [-21036, 113504], [81160, 68452]], [[13254, 670842], [-1859, -6147]], [[11395, 664695], [1859, 6147]], [[378802, 994407], [44617, -52785]], [[130029, 862070], [273, 3612]], [[224773, 969770], [154029, 24637]], [[378802, 994407], [15433, -91990]], [[430846, 807696], [-112452, -59809]], [[318394, 747887], [-133666, 80634]], [[184728, 828521], [-54699, 33549]], [[786145, 682303], [28805, 49553]], [[814950, 731856], [67935, -73420]], [[224773, 969770], [-94471, -104088]], [[130302, 865682], [-121509, -86382]], [[8793, 779300], [215980, 190470]], [[792497, 787305], [-172577, 0]], [[622317, 919898], [132355, -4847], [37825, -127746]], [[619920, 787305], [-16905, -33526]], [[603015, 753779], [-130694, 45483]], [[472321, 799262], [-41475, 8434]], [[430846, 807696], [-36611, 94721]], [[394235, 902417], [29184, 39205]], [[423419, 941622], [198898, -21724]], [[622317, 919898], [-2397, -132593]], [[951359, 593358], [-86307, -56591]], [[865052, 536767], [-95363, 21991]], [[750448, 602802], [35697, 79501]], [[786145, 682303], [86128, -26048]], [[872273, 656255], [10612, 2181]], [[882885, 658436], [932, -17149]], [[878458, 633872], [-6185, 22383]], [[968212, 640575], [-16853, -47217]], [[951359, 593358], [-72901, 40514]], [[878458, 633872], [5359, 7415]], [[883817, 641287], [84395, -712]], [[749411, 469302], [-50678, -2559]], [[686521, 463880], [18244, 67210]], [[750884, 541353], [-1473, -72051]], [[698733, 466743], [735, -17725]], [[699468, 449018], [-21012, -5894]], [[678456, 443124], [8065, 20756]], [[686521, 463880], [12212, 2863]], [[704765, 531090], [-50316, 23899]], [[654449, 554989], [-40821, 41503]], [[613628, 596492], [136820, 6310]], [[750448, 602802], [19241, -44044]], [[769689, 558758], [-18805, -17405]], [[750884, 541353], [-46119, -10263]]]}}}, {\"mode\": \"vega-lite\"});\n</script>",
      "text/plain": [
       "alt.HConcatChart(...)"
      ]
     },
     "metadata": {},
     "execution_count": 5
    }
   ],
   "source": [
    "l = tp.Topology(data=data, topology=False).toposimplify(4).to_alt().properties(title='WITHOUT Topology')\n",
    "r = tp.Topology(data, topology=True).toposimplify(4).to_alt().properties(title='WITH Topology')\n",
    "l | r"
   ]
  },
  {
   "cell_type": "code",
   "execution_count": 26,
   "metadata": {},
   "outputs": [
    {
     "output_type": "stream",
     "name": "stdout",
     "text": [
      "kx: 0.5001250312578145\n"
     ]
    }
   ],
   "source": [
    "# compute the scaling factor (kx) given the quantize factor (qf)\n",
    "qf = 4e3\n",
    "kx = (x.max() - x.min()) / (qf - 1)\n",
    "print(f'kx: {kx}')"
   ]
  },
  {
   "cell_type": "code",
   "execution_count": 27,
   "metadata": {},
   "outputs": [
    {
     "output_type": "stream",
     "name": "stdout",
     "text": [
      "x-normalized:\n[[   0 1998 1998    0    0]\n [2001 3999 3999 2001 2001]]\n"
     ]
    }
   ],
   "source": [
    "# shift and apply the scaling factor to map the x-numbers on the integer range\n",
    "xnorm = np.round((x - x.min()) / kx).astype(int)\n",
    "print(f'x-normalized:\\n{xnorm}')"
   ]
  },
  {
   "cell_type": "code",
   "execution_count": 28,
   "metadata": {},
   "outputs": [
    {
     "output_type": "stream",
     "name": "stdout",
     "text": [
      "x-denormalized:\n[[   0.          999.24981245  999.24981245    0.            0.        ]\n [1000.75018755 2000.         2000.         1000.75018755 1000.75018755]]\n"
     ]
    }
   ],
   "source": [
    "# denormalize happens as follow\n",
    "print(f'x-denormalized:\\n{xnorm * kx + x.min()}')"
   ]
  },
  {
   "cell_type": "code",
   "execution_count": 29,
   "metadata": {},
   "outputs": [
    {
     "output_type": "stream",
     "name": "stdout",
     "text": [
      "x-quantized (normalized-delta-encoded):\n[[    0  1998     0 -1998     0]\n [ 2001  1998     0 -1998     0]]\n"
     ]
    }
   ],
   "source": [
    "# delta encoding of normalized x-numbers\n",
    "x_quant = np.insert(np.diff(xnorm), 0, xnorm[:,0], axis=1)\n",
    "print(f'x-quantized (normalized-delta-encoded):\\n{x_quant}')"
   ]
  },
  {
   "cell_type": "code",
   "execution_count": 30,
   "metadata": {},
   "outputs": [
    {
     "output_type": "stream",
     "name": "stdout",
     "text": [
      "x-dequantized:\n[[   0.          999.24981245  999.24981245    0.            0.        ]\n [1000.75018755 2000.         2000.         1000.75018755 1000.75018755]]\n"
     ]
    }
   ],
   "source": [
    "# dequantization of quantized x-numbers\n",
    "x_dequant = x_quant.cumsum(axis=1) * kx + x.min()\n",
    "print(f'x-dequantized:\\n{x_dequant}')"
   ]
  },
  {
   "cell_type": "code",
   "execution_count": 35,
   "metadata": {},
   "outputs": [
    {
     "output_type": "execute_result",
     "data": {
      "text/html": "\n<div id=\"altair-viz-d12a19a2425540ec93af5801104aff1c\"></div>\n<script type=\"text/javascript\">\n  (function(spec, embedOpt){\n    let outputDiv = document.currentScript.previousElementSibling;\n    if (outputDiv.id !== \"altair-viz-d12a19a2425540ec93af5801104aff1c\") {\n      outputDiv = document.getElementById(\"altair-viz-d12a19a2425540ec93af5801104aff1c\");\n    }\n    const paths = {\n      \"vega\": \"https://cdn.jsdelivr.net/npm//vega@5?noext\",\n      \"vega-lib\": \"https://cdn.jsdelivr.net/npm//vega-lib?noext\",\n      \"vega-lite\": \"https://cdn.jsdelivr.net/npm//vega-lite@4.8.1?noext\",\n      \"vega-embed\": \"https://cdn.jsdelivr.net/npm//vega-embed@6?noext\",\n    };\n\n    function loadScript(lib) {\n      return new Promise(function(resolve, reject) {\n        var s = document.createElement('script');\n        s.src = paths[lib];\n        s.async = true;\n        s.onload = () => resolve(paths[lib]);\n        s.onerror = () => reject(`Error loading script: ${paths[lib]}`);\n        document.getElementsByTagName(\"head\")[0].appendChild(s);\n      });\n    }\n\n    function showError(err) {\n      outputDiv.innerHTML = `<div class=\"error\" style=\"color:red;\">${err}</div>`;\n      throw err;\n    }\n\n    function displayChart(vegaEmbed) {\n      vegaEmbed(outputDiv, spec, embedOpt)\n        .catch(err => showError(`Javascript Error: ${err.message}<br>This usually means there's a typo in your chart specification. See the javascript console for the full traceback.`));\n    }\n\n    if(typeof define === \"function\" && define.amd) {\n      requirejs.config({paths});\n      require([\"vega-embed\"], displayChart, err => showError(`Error loading script: ${err.message}`));\n    } else if (typeof vegaEmbed === \"function\") {\n      displayChart(vegaEmbed);\n    } else {\n      loadScript(\"vega\")\n        .then(() => loadScript(\"vega-lite\"))\n        .then(() => loadScript(\"vega-embed\"))\n        .catch(showError)\n        .then(() => displayChart(vegaEmbed));\n    }\n  })({\"config\": {\"view\": {\"continuousWidth\": 400, \"continuousHeight\": 300}}, \"data\": {\"name\": \"data-b45116b045515298866fe5c1fc3fb301\", \"format\": {\"mesh\": \"data\", \"type\": \"topojson\"}}, \"mark\": {\"type\": \"geoshape\", \"filled\": false}, \"projection\": {\"reflectY\": true, \"type\": \"identity\"}, \"width\": 300, \"$schema\": \"https://vega.github.io/schema/vega-lite/v4.8.1.json\", \"datasets\": {\"data-b45116b045515298866fe5c1fc3fb301\": {\"type\": \"Topology\", \"objects\": {\"data\": {\"geometries\": [{\"type\": \"MultiLineString\", \"arcs\": [[0], [1]]}], \"type\": \"GeometryCollection\"}}, \"bbox\": [0.0, 0.0, 2000.0, 1000.0], \"transform\": {\"scale\": [0.5001250312578145, 0.25006251562890724], \"translate\": [0.0, 0.0]}, \"arcs\": [[[0, 0], [1998, 0], [0, 3999], [-1998, 0], [0, -3999]], [[2001, 0], [1998, 0], [0, 3999], [-1998, 0], [0, -3999]]]}}}, {\"mode\": \"vega-lite\"});\n</script>",
      "text/plain": [
       "alt.Chart(...)"
      ]
     },
     "metadata": {},
     "execution_count": 35
    }
   ],
   "source": [
    "topo = tp.Topology(data, prequantize=qf)\n",
    "topo.to_alt()"
   ]
  },
  {
   "cell_type": "code",
   "execution_count": 39,
   "metadata": {},
   "outputs": [
    {
     "output_type": "stream",
     "name": "stderr",
     "text": [
      "WARNING:root:removed 3 invalid geometric objects\n"
     ]
    },
    {
     "output_type": "display_data",
     "data": {
      "text/plain": "interactive(children=(FloatSlider(value=0.01, description='Toposimplify Factor', max=10.0, step=0.01, style=Sl…",
      "application/vnd.jupyter.widget-view+json": {
       "version_major": 2,
       "version_minor": 0,
       "model_id": "a03acccaa81d428d8dd75faff6d39d48"
      }
     },
     "metadata": {}
    },
    {
     "output_type": "execute_result",
     "data": {
      "text/plain": [
       "<function topojson.utils.toposimpquant(epsilon, quant, algo, topo)>"
      ]
     },
     "metadata": {},
     "execution_count": 39
    }
   ],
   "source": [
    "# test on real data\n",
    "import pickle\n",
    "from geojson import Feature, Polygon, FeatureCollection\n",
    "topo_data = pickle.load(open('topo_data', 'rb'))\n",
    "tolerance = 2\n",
    "fc = FeatureCollection(topo_data)\n",
    "topo = tp.Topology(fc, prequantize=4e3, topology=True, shared_coords=False)\n",
    "topo_s = topo.toposimplify(\n",
    "    epsilon=tolerance, \n",
    "    simplify_algorithm='vw', \n",
    "    simplify_with='simplification', \n",
    "    )\n",
    "topo_s.to_svg()"
   ]
  }
 ]
}