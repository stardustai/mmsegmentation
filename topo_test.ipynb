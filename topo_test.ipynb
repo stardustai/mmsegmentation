{
 "metadata": {
  "language_info": {
   "codemirror_mode": {
    "name": "ipython",
    "version": 3
   },
   "file_extension": ".py",
   "mimetype": "text/x-python",
   "name": "python",
   "nbconvert_exporter": "python",
   "pygments_lexer": "ipython3",
   "version": "3.8.8-final"
  },
  "orig_nbformat": 2,
  "kernelspec": {
   "name": "python3",
   "display_name": "Python 3.8.8 64-bit",
   "metadata": {
    "interpreter": {
     "hash": "1ee38ef4a5a9feb55287fd749643f13d043cb0a7addaab2a9c224cbe137c0062"
    }
   }
  }
 },
 "nbformat": 4,
 "nbformat_minor": 2,
 "cells": [
  {
   "cell_type": "code",
   "execution_count": 16,
   "metadata": {},
   "outputs": [
    {
     "output_type": "execute_result",
     "data": {
      "text/plain": [
       "<shapely.geometry.multilinestring.MultiLineString at 0x119c70580>"
      ],
      "image/svg+xml": "<svg xmlns=\"http://www.w3.org/2000/svg\" xmlns:xlink=\"http://www.w3.org/1999/xlink\" width=\"300\" height=\"300\" viewBox=\"-80.0 -80.0 2160.0 1160.0\" preserveAspectRatio=\"xMinYMin meet\"><g transform=\"matrix(1,0,0,-1,0,1000.0)\"><g><polyline fill=\"none\" stroke=\"#66cc99\" stroke-width=\"14.4\" points=\"0.0,0.0 999.0,0.0 999.0,1000.0 0.0,1000.0 0.0,0.0\" opacity=\"0.8\" /><polyline fill=\"none\" stroke=\"#66cc99\" stroke-width=\"14.4\" points=\"1001.0,0.0 2000.0,0.0 2000.0,1000.0 1001.0,1000.0 1001.0,0.0\" opacity=\"0.8\" /></g></g></svg>"
     },
     "metadata": {},
     "execution_count": 16
    }
   ],
   "source": [
    "import topojson as tp\n",
    "from shapely import geometry\n",
    "\n",
    "data = geometry.MultiLineString([\n",
    "    [[0, 0], [999, 0], [999, 1000], [0, 1000], [0, 0]], \n",
    "    [[1001, 0], [2000, 0], [2000, 1000], [1001, 1000], [1001, 0]]\n",
    "])\n",
    "data"
   ]
  },
  {
   "cell_type": "code",
   "execution_count": 11,
   "metadata": {},
   "outputs": [
    {
     "output_type": "stream",
     "name": "stdout",
     "text": [
      "x:\n[[   0.  999.  999.    0.    0.]\n [1001. 2000. 2000. 1001. 1001.]]\n"
     ]
    }
   ],
   "source": [
    "# get the x-numbers of all coordinates\n",
    "import numpy as np\n",
    "x = np.array([ls.xy[0] for ls in data])\n",
    "print(f'x:\\n{x}')"
   ]
  },
  {
   "cell_type": "code",
   "execution_count": 26,
   "metadata": {},
   "outputs": [
    {
     "output_type": "stream",
     "name": "stdout",
     "text": [
      "kx: 0.5001250312578145\n"
     ]
    }
   ],
   "source": [
    "# compute the scaling factor (kx) given the quantize factor (qf)\n",
    "qf = 4e3\n",
    "kx = (x.max() - x.min()) / (qf - 1)\n",
    "print(f'kx: {kx}')"
   ]
  },
  {
   "cell_type": "code",
   "execution_count": 27,
   "metadata": {},
   "outputs": [
    {
     "output_type": "stream",
     "name": "stdout",
     "text": [
      "x-normalized:\n[[   0 1998 1998    0    0]\n [2001 3999 3999 2001 2001]]\n"
     ]
    }
   ],
   "source": [
    "# shift and apply the scaling factor to map the x-numbers on the integer range\n",
    "xnorm = np.round((x - x.min()) / kx).astype(int)\n",
    "print(f'x-normalized:\\n{xnorm}')"
   ]
  },
  {
   "cell_type": "code",
   "execution_count": 28,
   "metadata": {},
   "outputs": [
    {
     "output_type": "stream",
     "name": "stdout",
     "text": [
      "x-denormalized:\n[[   0.          999.24981245  999.24981245    0.            0.        ]\n [1000.75018755 2000.         2000.         1000.75018755 1000.75018755]]\n"
     ]
    }
   ],
   "source": [
    "# denormalize happens as follow\n",
    "print(f'x-denormalized:\\n{xnorm * kx + x.min()}')"
   ]
  },
  {
   "cell_type": "code",
   "execution_count": 29,
   "metadata": {},
   "outputs": [
    {
     "output_type": "stream",
     "name": "stdout",
     "text": [
      "x-quantized (normalized-delta-encoded):\n[[    0  1998     0 -1998     0]\n [ 2001  1998     0 -1998     0]]\n"
     ]
    }
   ],
   "source": [
    "# delta encoding of normalized x-numbers\n",
    "x_quant = np.insert(np.diff(xnorm), 0, xnorm[:,0], axis=1)\n",
    "print(f'x-quantized (normalized-delta-encoded):\\n{x_quant}')"
   ]
  },
  {
   "cell_type": "code",
   "execution_count": 30,
   "metadata": {},
   "outputs": [
    {
     "output_type": "stream",
     "name": "stdout",
     "text": [
      "x-dequantized:\n[[   0.          999.24981245  999.24981245    0.            0.        ]\n [1000.75018755 2000.         2000.         1000.75018755 1000.75018755]]\n"
     ]
    }
   ],
   "source": [
    "# dequantization of quantized x-numbers\n",
    "x_dequant = x_quant.cumsum(axis=1) * kx + x.min()\n",
    "print(f'x-dequantized:\\n{x_dequant}')"
   ]
  },
  {
   "cell_type": "code",
   "execution_count": 35,
   "metadata": {},
   "outputs": [
    {
     "output_type": "execute_result",
     "data": {
      "text/html": "\n<div id=\"altair-viz-d12a19a2425540ec93af5801104aff1c\"></div>\n<script type=\"text/javascript\">\n  (function(spec, embedOpt){\n    let outputDiv = document.currentScript.previousElementSibling;\n    if (outputDiv.id !== \"altair-viz-d12a19a2425540ec93af5801104aff1c\") {\n      outputDiv = document.getElementById(\"altair-viz-d12a19a2425540ec93af5801104aff1c\");\n    }\n    const paths = {\n      \"vega\": \"https://cdn.jsdelivr.net/npm//vega@5?noext\",\n      \"vega-lib\": \"https://cdn.jsdelivr.net/npm//vega-lib?noext\",\n      \"vega-lite\": \"https://cdn.jsdelivr.net/npm//vega-lite@4.8.1?noext\",\n      \"vega-embed\": \"https://cdn.jsdelivr.net/npm//vega-embed@6?noext\",\n    };\n\n    function loadScript(lib) {\n      return new Promise(function(resolve, reject) {\n        var s = document.createElement('script');\n        s.src = paths[lib];\n        s.async = true;\n        s.onload = () => resolve(paths[lib]);\n        s.onerror = () => reject(`Error loading script: ${paths[lib]}`);\n        document.getElementsByTagName(\"head\")[0].appendChild(s);\n      });\n    }\n\n    function showError(err) {\n      outputDiv.innerHTML = `<div class=\"error\" style=\"color:red;\">${err}</div>`;\n      throw err;\n    }\n\n    function displayChart(vegaEmbed) {\n      vegaEmbed(outputDiv, spec, embedOpt)\n        .catch(err => showError(`Javascript Error: ${err.message}<br>This usually means there's a typo in your chart specification. See the javascript console for the full traceback.`));\n    }\n\n    if(typeof define === \"function\" && define.amd) {\n      requirejs.config({paths});\n      require([\"vega-embed\"], displayChart, err => showError(`Error loading script: ${err.message}`));\n    } else if (typeof vegaEmbed === \"function\") {\n      displayChart(vegaEmbed);\n    } else {\n      loadScript(\"vega\")\n        .then(() => loadScript(\"vega-lite\"))\n        .then(() => loadScript(\"vega-embed\"))\n        .catch(showError)\n        .then(() => displayChart(vegaEmbed));\n    }\n  })({\"config\": {\"view\": {\"continuousWidth\": 400, \"continuousHeight\": 300}}, \"data\": {\"name\": \"data-b45116b045515298866fe5c1fc3fb301\", \"format\": {\"mesh\": \"data\", \"type\": \"topojson\"}}, \"mark\": {\"type\": \"geoshape\", \"filled\": false}, \"projection\": {\"reflectY\": true, \"type\": \"identity\"}, \"width\": 300, \"$schema\": \"https://vega.github.io/schema/vega-lite/v4.8.1.json\", \"datasets\": {\"data-b45116b045515298866fe5c1fc3fb301\": {\"type\": \"Topology\", \"objects\": {\"data\": {\"geometries\": [{\"type\": \"MultiLineString\", \"arcs\": [[0], [1]]}], \"type\": \"GeometryCollection\"}}, \"bbox\": [0.0, 0.0, 2000.0, 1000.0], \"transform\": {\"scale\": [0.5001250312578145, 0.25006251562890724], \"translate\": [0.0, 0.0]}, \"arcs\": [[[0, 0], [1998, 0], [0, 3999], [-1998, 0], [0, -3999]], [[2001, 0], [1998, 0], [0, 3999], [-1998, 0], [0, -3999]]]}}}, {\"mode\": \"vega-lite\"});\n</script>",
      "text/plain": [
       "alt.Chart(...)"
      ]
     },
     "metadata": {},
     "execution_count": 35
    }
   ],
   "source": [
    "topo = tp.Topology(data, prequantize=qf)\n",
    "topo.to_alt()"
   ]
  },
  {
   "cell_type": "code",
   "execution_count": 39,
   "metadata": {},
   "outputs": [
    {
     "output_type": "stream",
     "name": "stderr",
     "text": [
      "WARNING:root:removed 3 invalid geometric objects\n"
     ]
    },
    {
     "output_type": "display_data",
     "data": {
      "text/plain": "interactive(children=(FloatSlider(value=0.01, description='Toposimplify Factor', max=10.0, step=0.01, style=Sl…",
      "application/vnd.jupyter.widget-view+json": {
       "version_major": 2,
       "version_minor": 0,
       "model_id": "a03acccaa81d428d8dd75faff6d39d48"
      }
     },
     "metadata": {}
    },
    {
     "output_type": "execute_result",
     "data": {
      "text/plain": [
       "<function topojson.utils.toposimpquant(epsilon, quant, algo, topo)>"
      ]
     },
     "metadata": {},
     "execution_count": 39
    }
   ],
   "source": [
    "# test on real data\n",
    "import pickle\n",
    "from geojson import Feature, Polygon, FeatureCollection\n",
    "topo_data = pickle.load(open('topo_data', 'rb'))\n",
    "tolerance = 2\n",
    "fc = FeatureCollection(topo_data)\n",
    "topo = tp.Topology(fc, prequantize=4e3, topology=True, shared_coords=False)\n",
    "topo_s = topo.toposimplify(\n",
    "    epsilon=tolerance, \n",
    "    simplify_algorithm='vw', \n",
    "    simplify_with='simplification', \n",
    "    )\n",
    "topo_s.to_svg()"
   ]
  }
 ]
}